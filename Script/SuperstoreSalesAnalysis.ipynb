{
 "cells": [
  {
   "cell_type": "markdown",
   "id": "949546d2-e7d0-44e9-8987-44cb3b71827d",
   "metadata": {},
   "source": [
    "# Basic Information"
   ]
  },
  {
   "cell_type": "code",
   "execution_count": 1,
   "id": "e438ac23-8ae8-4a74-b206-81cb8c014f6e",
   "metadata": {},
   "outputs": [],
   "source": [
    "# Import the libraries\n",
    "import numpy as np\n",
    "import pandas as pd\n",
    "import matplotlib.pyplot as plt"
   ]
  },
  {
   "cell_type": "code",
   "execution_count": 2,
   "id": "d9f1ad34-8f40-4966-871d-46dfed9c684a",
   "metadata": {},
   "outputs": [],
   "source": [
    "# Load the dataset\n",
    "df = pd.read_csv(\"train.csv\")"
   ]
  },
  {
   "cell_type": "code",
   "execution_count": 3,
   "id": "fee53195-aae2-48e6-b357-ffa905b85678",
   "metadata": {},
   "outputs": [
    {
     "data": {
      "text/html": [
       "<div>\n",
       "<style scoped>\n",
       "    .dataframe tbody tr th:only-of-type {\n",
       "        vertical-align: middle;\n",
       "    }\n",
       "\n",
       "    .dataframe tbody tr th {\n",
       "        vertical-align: top;\n",
       "    }\n",
       "\n",
       "    .dataframe thead th {\n",
       "        text-align: right;\n",
       "    }\n",
       "</style>\n",
       "<table border=\"1\" class=\"dataframe\">\n",
       "  <thead>\n",
       "    <tr style=\"text-align: right;\">\n",
       "      <th></th>\n",
       "      <th>Row ID</th>\n",
       "      <th>Order ID</th>\n",
       "      <th>Order Date</th>\n",
       "      <th>Ship Date</th>\n",
       "      <th>Ship Mode</th>\n",
       "      <th>Customer ID</th>\n",
       "      <th>Customer Name</th>\n",
       "      <th>Segment</th>\n",
       "      <th>Country</th>\n",
       "      <th>City</th>\n",
       "      <th>State</th>\n",
       "      <th>Postal Code</th>\n",
       "      <th>Region</th>\n",
       "      <th>Product ID</th>\n",
       "      <th>Category</th>\n",
       "      <th>Sub-Category</th>\n",
       "      <th>Product Name</th>\n",
       "      <th>Sales</th>\n",
       "    </tr>\n",
       "  </thead>\n",
       "  <tbody>\n",
       "    <tr>\n",
       "      <th>0</th>\n",
       "      <td>1</td>\n",
       "      <td>CA-2017-152156</td>\n",
       "      <td>08/11/2017</td>\n",
       "      <td>11/11/2017</td>\n",
       "      <td>Second Class</td>\n",
       "      <td>CG-12520</td>\n",
       "      <td>Claire Gute</td>\n",
       "      <td>Consumer</td>\n",
       "      <td>United States</td>\n",
       "      <td>Henderson</td>\n",
       "      <td>Kentucky</td>\n",
       "      <td>42420.0</td>\n",
       "      <td>South</td>\n",
       "      <td>FUR-BO-10001798</td>\n",
       "      <td>Furniture</td>\n",
       "      <td>Bookcases</td>\n",
       "      <td>Bush Somerset Collection Bookcase</td>\n",
       "      <td>261.9600</td>\n",
       "    </tr>\n",
       "    <tr>\n",
       "      <th>1</th>\n",
       "      <td>2</td>\n",
       "      <td>CA-2017-152156</td>\n",
       "      <td>08/11/2017</td>\n",
       "      <td>11/11/2017</td>\n",
       "      <td>Second Class</td>\n",
       "      <td>CG-12520</td>\n",
       "      <td>Claire Gute</td>\n",
       "      <td>Consumer</td>\n",
       "      <td>United States</td>\n",
       "      <td>Henderson</td>\n",
       "      <td>Kentucky</td>\n",
       "      <td>42420.0</td>\n",
       "      <td>South</td>\n",
       "      <td>FUR-CH-10000454</td>\n",
       "      <td>Furniture</td>\n",
       "      <td>Chairs</td>\n",
       "      <td>Hon Deluxe Fabric Upholstered Stacking Chairs,...</td>\n",
       "      <td>731.9400</td>\n",
       "    </tr>\n",
       "    <tr>\n",
       "      <th>2</th>\n",
       "      <td>3</td>\n",
       "      <td>CA-2017-138688</td>\n",
       "      <td>12/06/2017</td>\n",
       "      <td>16/06/2017</td>\n",
       "      <td>Second Class</td>\n",
       "      <td>DV-13045</td>\n",
       "      <td>Darrin Van Huff</td>\n",
       "      <td>Corporate</td>\n",
       "      <td>United States</td>\n",
       "      <td>Los Angeles</td>\n",
       "      <td>California</td>\n",
       "      <td>90036.0</td>\n",
       "      <td>West</td>\n",
       "      <td>OFF-LA-10000240</td>\n",
       "      <td>Office Supplies</td>\n",
       "      <td>Labels</td>\n",
       "      <td>Self-Adhesive Address Labels for Typewriters b...</td>\n",
       "      <td>14.6200</td>\n",
       "    </tr>\n",
       "    <tr>\n",
       "      <th>3</th>\n",
       "      <td>4</td>\n",
       "      <td>US-2016-108966</td>\n",
       "      <td>11/10/2016</td>\n",
       "      <td>18/10/2016</td>\n",
       "      <td>Standard Class</td>\n",
       "      <td>SO-20335</td>\n",
       "      <td>Sean O'Donnell</td>\n",
       "      <td>Consumer</td>\n",
       "      <td>United States</td>\n",
       "      <td>Fort Lauderdale</td>\n",
       "      <td>Florida</td>\n",
       "      <td>33311.0</td>\n",
       "      <td>South</td>\n",
       "      <td>FUR-TA-10000577</td>\n",
       "      <td>Furniture</td>\n",
       "      <td>Tables</td>\n",
       "      <td>Bretford CR4500 Series Slim Rectangular Table</td>\n",
       "      <td>957.5775</td>\n",
       "    </tr>\n",
       "    <tr>\n",
       "      <th>4</th>\n",
       "      <td>5</td>\n",
       "      <td>US-2016-108966</td>\n",
       "      <td>11/10/2016</td>\n",
       "      <td>18/10/2016</td>\n",
       "      <td>Standard Class</td>\n",
       "      <td>SO-20335</td>\n",
       "      <td>Sean O'Donnell</td>\n",
       "      <td>Consumer</td>\n",
       "      <td>United States</td>\n",
       "      <td>Fort Lauderdale</td>\n",
       "      <td>Florida</td>\n",
       "      <td>33311.0</td>\n",
       "      <td>South</td>\n",
       "      <td>OFF-ST-10000760</td>\n",
       "      <td>Office Supplies</td>\n",
       "      <td>Storage</td>\n",
       "      <td>Eldon Fold 'N Roll Cart System</td>\n",
       "      <td>22.3680</td>\n",
       "    </tr>\n",
       "  </tbody>\n",
       "</table>\n",
       "</div>"
      ],
      "text/plain": [
       "   Row ID        Order ID  Order Date   Ship Date       Ship Mode Customer ID  \\\n",
       "0       1  CA-2017-152156  08/11/2017  11/11/2017    Second Class    CG-12520   \n",
       "1       2  CA-2017-152156  08/11/2017  11/11/2017    Second Class    CG-12520   \n",
       "2       3  CA-2017-138688  12/06/2017  16/06/2017    Second Class    DV-13045   \n",
       "3       4  US-2016-108966  11/10/2016  18/10/2016  Standard Class    SO-20335   \n",
       "4       5  US-2016-108966  11/10/2016  18/10/2016  Standard Class    SO-20335   \n",
       "\n",
       "     Customer Name    Segment        Country             City       State  \\\n",
       "0      Claire Gute   Consumer  United States        Henderson    Kentucky   \n",
       "1      Claire Gute   Consumer  United States        Henderson    Kentucky   \n",
       "2  Darrin Van Huff  Corporate  United States      Los Angeles  California   \n",
       "3   Sean O'Donnell   Consumer  United States  Fort Lauderdale     Florida   \n",
       "4   Sean O'Donnell   Consumer  United States  Fort Lauderdale     Florida   \n",
       "\n",
       "   Postal Code Region       Product ID         Category Sub-Category  \\\n",
       "0      42420.0  South  FUR-BO-10001798        Furniture    Bookcases   \n",
       "1      42420.0  South  FUR-CH-10000454        Furniture       Chairs   \n",
       "2      90036.0   West  OFF-LA-10000240  Office Supplies       Labels   \n",
       "3      33311.0  South  FUR-TA-10000577        Furniture       Tables   \n",
       "4      33311.0  South  OFF-ST-10000760  Office Supplies      Storage   \n",
       "\n",
       "                                        Product Name     Sales  \n",
       "0                  Bush Somerset Collection Bookcase  261.9600  \n",
       "1  Hon Deluxe Fabric Upholstered Stacking Chairs,...  731.9400  \n",
       "2  Self-Adhesive Address Labels for Typewriters b...   14.6200  \n",
       "3      Bretford CR4500 Series Slim Rectangular Table  957.5775  \n",
       "4                     Eldon Fold 'N Roll Cart System   22.3680  "
      ]
     },
     "execution_count": 3,
     "metadata": {},
     "output_type": "execute_result"
    }
   ],
   "source": [
    "df.head()"
   ]
  },
  {
   "cell_type": "code",
   "execution_count": 4,
   "id": "686968c8-c6d7-497d-80e2-1000ef518512",
   "metadata": {},
   "outputs": [
    {
     "data": {
      "text/plain": [
       "(9800, 18)"
      ]
     },
     "execution_count": 4,
     "metadata": {},
     "output_type": "execute_result"
    }
   ],
   "source": [
    "# Gettin shape of the dataset\n",
    "df.shape"
   ]
  },
  {
   "cell_type": "code",
   "execution_count": 5,
   "id": "fa105187-95f3-41e2-881f-5f7f86db5119",
   "metadata": {},
   "outputs": [
    {
     "name": "stdout",
     "output_type": "stream",
     "text": [
      "<class 'pandas.core.frame.DataFrame'>\n",
      "RangeIndex: 9800 entries, 0 to 9799\n",
      "Data columns (total 18 columns):\n",
      " #   Column         Non-Null Count  Dtype  \n",
      "---  ------         --------------  -----  \n",
      " 0   Row ID         9800 non-null   int64  \n",
      " 1   Order ID       9800 non-null   object \n",
      " 2   Order Date     9800 non-null   object \n",
      " 3   Ship Date      9800 non-null   object \n",
      " 4   Ship Mode      9800 non-null   object \n",
      " 5   Customer ID    9800 non-null   object \n",
      " 6   Customer Name  9800 non-null   object \n",
      " 7   Segment        9800 non-null   object \n",
      " 8   Country        9800 non-null   object \n",
      " 9   City           9800 non-null   object \n",
      " 10  State          9800 non-null   object \n",
      " 11  Postal Code    9789 non-null   float64\n",
      " 12  Region         9800 non-null   object \n",
      " 13  Product ID     9800 non-null   object \n",
      " 14  Category       9800 non-null   object \n",
      " 15  Sub-Category   9800 non-null   object \n",
      " 16  Product Name   9800 non-null   object \n",
      " 17  Sales          9800 non-null   float64\n",
      "dtypes: float64(2), int64(1), object(15)\n",
      "memory usage: 1.3+ MB\n"
     ]
    }
   ],
   "source": [
    "# basic overview of dataset\n",
    "df.info()"
   ]
  },
  {
   "cell_type": "code",
   "execution_count": 6,
   "id": "bfe4774e-9b87-4fd0-ac0c-9ccf5e43031a",
   "metadata": {},
   "outputs": [
    {
     "data": {
      "text/html": [
       "<div>\n",
       "<style scoped>\n",
       "    .dataframe tbody tr th:only-of-type {\n",
       "        vertical-align: middle;\n",
       "    }\n",
       "\n",
       "    .dataframe tbody tr th {\n",
       "        vertical-align: top;\n",
       "    }\n",
       "\n",
       "    .dataframe thead th {\n",
       "        text-align: right;\n",
       "    }\n",
       "</style>\n",
       "<table border=\"1\" class=\"dataframe\">\n",
       "  <thead>\n",
       "    <tr style=\"text-align: right;\">\n",
       "      <th></th>\n",
       "      <th>Row ID</th>\n",
       "      <th>Postal Code</th>\n",
       "      <th>Sales</th>\n",
       "    </tr>\n",
       "  </thead>\n",
       "  <tbody>\n",
       "    <tr>\n",
       "      <th>count</th>\n",
       "      <td>9800.000000</td>\n",
       "      <td>9789.000000</td>\n",
       "      <td>9800.000000</td>\n",
       "    </tr>\n",
       "    <tr>\n",
       "      <th>mean</th>\n",
       "      <td>4900.500000</td>\n",
       "      <td>55273.322403</td>\n",
       "      <td>230.769059</td>\n",
       "    </tr>\n",
       "    <tr>\n",
       "      <th>std</th>\n",
       "      <td>2829.160653</td>\n",
       "      <td>32041.223413</td>\n",
       "      <td>626.651875</td>\n",
       "    </tr>\n",
       "    <tr>\n",
       "      <th>min</th>\n",
       "      <td>1.000000</td>\n",
       "      <td>1040.000000</td>\n",
       "      <td>0.444000</td>\n",
       "    </tr>\n",
       "    <tr>\n",
       "      <th>25%</th>\n",
       "      <td>2450.750000</td>\n",
       "      <td>23223.000000</td>\n",
       "      <td>17.248000</td>\n",
       "    </tr>\n",
       "    <tr>\n",
       "      <th>50%</th>\n",
       "      <td>4900.500000</td>\n",
       "      <td>58103.000000</td>\n",
       "      <td>54.490000</td>\n",
       "    </tr>\n",
       "    <tr>\n",
       "      <th>75%</th>\n",
       "      <td>7350.250000</td>\n",
       "      <td>90008.000000</td>\n",
       "      <td>210.605000</td>\n",
       "    </tr>\n",
       "    <tr>\n",
       "      <th>max</th>\n",
       "      <td>9800.000000</td>\n",
       "      <td>99301.000000</td>\n",
       "      <td>22638.480000</td>\n",
       "    </tr>\n",
       "  </tbody>\n",
       "</table>\n",
       "</div>"
      ],
      "text/plain": [
       "            Row ID   Postal Code         Sales\n",
       "count  9800.000000   9789.000000   9800.000000\n",
       "mean   4900.500000  55273.322403    230.769059\n",
       "std    2829.160653  32041.223413    626.651875\n",
       "min       1.000000   1040.000000      0.444000\n",
       "25%    2450.750000  23223.000000     17.248000\n",
       "50%    4900.500000  58103.000000     54.490000\n",
       "75%    7350.250000  90008.000000    210.605000\n",
       "max    9800.000000  99301.000000  22638.480000"
      ]
     },
     "execution_count": 6,
     "metadata": {},
     "output_type": "execute_result"
    }
   ],
   "source": [
    "# Description about numeric columns\n",
    "df.describe()"
   ]
  },
  {
   "cell_type": "markdown",
   "id": "0de8ae37-626a-4b18-ba76-6196e64fabc5",
   "metadata": {},
   "source": [
    "# Data Cleaning"
   ]
  },
  {
   "cell_type": "markdown",
   "id": "74b3b56e-3b66-4617-bbd9-3f3a174619eb",
   "metadata": {},
   "source": [
    "### Check for empty colums and datatype"
   ]
  },
  {
   "cell_type": "code",
   "execution_count": 7,
   "id": "1ff52bfa-94ab-4dac-9567-52820f961aa6",
   "metadata": {},
   "outputs": [
    {
     "name": "stdout",
     "output_type": "stream",
     "text": [
      "Total number of empty values are : 11\n"
     ]
    }
   ],
   "source": [
    "# Counting the total count of empty values\n",
    "\n",
    "empty_count = df[\"Postal Code\"].isnull().sum()\n",
    "print(\"Total number of empty values are :\",empty_count)"
   ]
  },
  {
   "cell_type": "code",
   "execution_count": 8,
   "id": "22819dbf-ad52-4d39-ae96-24c3d48b03ed",
   "metadata": {},
   "outputs": [
    {
     "name": "stdout",
     "output_type": "stream",
     "text": [
      "<class 'pandas.core.frame.DataFrame'>\n",
      "RangeIndex: 9800 entries, 0 to 9799\n",
      "Data columns (total 18 columns):\n",
      " #   Column         Non-Null Count  Dtype  \n",
      "---  ------         --------------  -----  \n",
      " 0   Row ID         9800 non-null   int64  \n",
      " 1   Order ID       9800 non-null   object \n",
      " 2   Order Date     9800 non-null   object \n",
      " 3   Ship Date      9800 non-null   object \n",
      " 4   Ship Mode      9800 non-null   object \n",
      " 5   Customer ID    9800 non-null   object \n",
      " 6   Customer Name  9800 non-null   object \n",
      " 7   Segment        9800 non-null   object \n",
      " 8   Country        9800 non-null   object \n",
      " 9   City           9800 non-null   object \n",
      " 10  State          9800 non-null   object \n",
      " 11  Postal Code    9800 non-null   int32  \n",
      " 12  Region         9800 non-null   object \n",
      " 13  Product ID     9800 non-null   object \n",
      " 14  Category       9800 non-null   object \n",
      " 15  Sub-Category   9800 non-null   object \n",
      " 16  Product Name   9800 non-null   object \n",
      " 17  Sales          9800 non-null   float64\n",
      "dtypes: float64(1), int32(1), int64(1), object(15)\n",
      "memory usage: 1.3+ MB\n"
     ]
    }
   ],
   "source": [
    "# Filling empty columns with 0\n",
    "df[\"Postal Code\"].fillna(0, inplace = True)\n",
    "\n",
    "# changing the datatype\n",
    "df[\"Postal Code\"] = df[\"Postal Code\"].astype(int)\n",
    "df.info()"
   ]
  },
  {
   "cell_type": "markdown",
   "id": "eb2c6b91-5f32-4e9b-8f9a-d739921e1eed",
   "metadata": {},
   "source": [
    "### Cheking for duplicates"
   ]
  },
  {
   "cell_type": "code",
   "execution_count": 9,
   "id": "da9c9c7b-f7f8-40cd-a16f-f7064c6f27fd",
   "metadata": {},
   "outputs": [
    {
     "name": "stdout",
     "output_type": "stream",
     "text": [
      "Duplicates are not present\n"
     ]
    }
   ],
   "source": [
    "# method 1: Using conditional statements\n",
    "\n",
    "if df.duplicated().sum() > 0:\n",
    "    print(\"Duplicates are present\")\n",
    "else:\n",
    "    print(\"Duplicates are not present\")"
   ]
  },
  {
   "cell_type": "code",
   "execution_count": 10,
   "id": "df3ea21b-4ec5-48aa-9041-9fde19e0fd45",
   "metadata": {},
   "outputs": [
    {
     "data": {
      "text/plain": [
       "0       False\n",
       "1       False\n",
       "2       False\n",
       "3       False\n",
       "4       False\n",
       "        ...  \n",
       "9795    False\n",
       "9796    False\n",
       "9797    False\n",
       "9798    False\n",
       "9799    False\n",
       "Length: 9800, dtype: bool"
      ]
     },
     "execution_count": 10,
     "metadata": {},
     "output_type": "execute_result"
    }
   ],
   "source": [
    "# method 2: using duplicated\n",
    "df.duplicated()"
   ]
  },
  {
   "cell_type": "code",
   "execution_count": 11,
   "id": "c2758f52-b343-4b34-9b97-390e8e38102b",
   "metadata": {},
   "outputs": [
    {
     "name": "stdout",
     "output_type": "stream",
     "text": [
      "Count of duplicates is  0\n"
     ]
    }
   ],
   "source": [
    "# method 3: Using keep arguement\n",
    "duplicate_count = df.duplicated(keep=False).sum()\n",
    "print(\"Count of duplicates is \",duplicate_count)"
   ]
  },
  {
   "cell_type": "markdown",
   "id": "8d7f5d3b-2c6e-40a5-b8fc-a4e61ed1ce2a",
   "metadata": {},
   "source": [
    "# Exploratory Data Analysis"
   ]
  },
  {
   "cell_type": "markdown",
   "id": "49fec256-3cab-42a7-8789-c02a8d57ae9a",
   "metadata": {},
   "source": [
    "### Customer Segmentation"
   ]
  },
  {
   "cell_type": "code",
   "execution_count": 12,
   "id": "bdd18c34-9aaa-4865-9ab8-a800f051e4ec",
   "metadata": {},
   "outputs": [
    {
     "name": "stdout",
     "output_type": "stream",
     "text": [
      "['Consumer' 'Corporate' 'Home Office']\n"
     ]
    }
   ],
   "source": [
    "# types of customers\n",
    "types_of_customers = df[\"Segment\"].unique()\n",
    "print(types_of_customers)"
   ]
  },
  {
   "cell_type": "code",
   "execution_count": 13,
   "id": "5c1936a1-6f14-44b1-99bf-600792a64ccd",
   "metadata": {},
   "outputs": [
    {
     "name": "stdout",
     "output_type": "stream",
     "text": [
      "  Customer Type  Total Customers\n",
      "0      Consumer             5101\n",
      "1     Corporate             2953\n",
      "2   Home Office             1746\n"
     ]
    }
   ],
   "source": [
    "# No. of customers in each segment\n",
    "num_of_customers = df[\"Segment\"].value_counts().reset_index()\n",
    "\n",
    "# Renaming the columns\n",
    "num_of_customers = num_of_customers.rename(columns={'Segment':'Customer Type','count':'Total Customers'})\n",
    "print(num_of_customers)"
   ]
  },
  {
   "cell_type": "code",
   "execution_count": 14,
   "id": "92fdf9fc-92b8-4ba3-b639-59d6e70414a1",
   "metadata": {},
   "outputs": [
    {
     "data": {
      "image/png": "[encoded data removed]",
      "text/plain": [
       "<Figure size 640x480 with 1 Axes>"
      ]
     },
     "metadata": {},
     "output_type": "display_data"
    }
   ],
   "source": [
    "# plotting pie chart \n",
    "plt.pie(num_of_customers['Total Customers'],labels=num_of_customers['Customer Type'], autopct='%1.1f%%')\n",
    "\n",
    "# Set pie chart labels\n",
    "plt.title(\"Distribution Of Customers\")\n",
    "\n",
    "plt.show()"
   ]
  },
  {
   "cell_type": "markdown",
   "id": "41f63635-2d3d-4a23-9546-73ba7a2ab184",
   "metadata": {},
   "source": [
    "### Sales per Customer Segment"
   ]
  },
  {
   "cell_type": "code",
   "execution_count": 15,
   "id": "ca9ee7d1-1e99-4467-9418-b7404c2e57a2",
   "metadata": {},
   "outputs": [
    {
     "name": "stdout",
     "output_type": "stream",
     "text": [
      "  Customer Type   Total Sales\n",
      "0      Consumer  1.148061e+06\n",
      "1     Corporate  6.884941e+05\n",
      "2   Home Office  4.249822e+05\n"
     ]
    }
   ],
   "source": [
    "# Sales per customer segment\n",
    "sales_per_customer_segment = df.groupby('Segment')['Sales'].sum().reset_index()\n",
    "\n",
    "# Renaming the columns\n",
    "sales_per_customer_segment = sales_per_customer_segment.rename(columns={'Segment':'Customer Type','Sales':'Total Sales'})\n",
    "print(sales_per_customer_segment)"
   ]
  },
  {
   "cell_type": "code",
   "execution_count": 16,
   "id": "167b5e02-ba13-49b3-b819-c56daabfa0f5",
   "metadata": {},
   "outputs": [
    {
     "data": {
      "image/png": "[encoded data removed]",
      "text/plain": [
       "<Figure size 640x480 with 1 Axes>"
      ]
     },
     "metadata": {},
     "output_type": "display_data"
    }
   ],
   "source": [
    "# Plotting the bar graph\n",
    "plt.bar(sales_per_customer_segment['Customer Type'], sales_per_customer_segment['Total Sales'])\n",
    "\n",
    "# Plotting the titles\n",
    "plt.title(\"Sales Per Customer Segment\")\n",
    "plt.xlabel(\"Customer Type\")\n",
    "plt.ylabel(\"Total Sales\")\n",
    "\n",
    "plt.show()"
   ]
  },
  {
   "cell_type": "markdown",
   "id": "11d90f64-96bc-4413-a21d-d6a50dc1dd95",
   "metadata": {},
   "source": [
    "## Ranking Customers"
   ]
  },
  {
   "cell_type": "markdown",
   "id": "c879c3e8-3512-4384-8534-986e77b785fc",
   "metadata": {},
   "source": [
    "### 1.Based on total orders"
   ]
  },
  {
   "cell_type": "code",
   "execution_count": 17,
   "id": "65e69a85-e0c1-4a1e-86aa-1d3dfc5d5d10",
   "metadata": {},
   "outputs": [
    {
     "name": "stdout",
     "output_type": "stream",
     "text": [
      "  Customer ID        Customer Name Customer Type  Total Orders\n",
      "0    WB-21850        William Brown      Consumer            35\n",
      "1    PP-18955           Paul Prost   Home Office            34\n",
      "2    MA-17560         Matt Abelman   Home Office            34\n",
      "3    JL-15835             John Lee      Consumer            33\n",
      "4    CK-12205  Chloris Kastensmidt      Consumer            32\n",
      "5    SV-20365          Seth Vernon      Consumer            32\n",
      "6    JD-15895     Jonathan Doherty     Corporate            32\n",
      "7    AP-10915       Arthur Prichep      Consumer            31\n",
      "8    ZC-21910     Zuschuss Carroll      Consumer            31\n",
      "9    EP-13915           Emily Phan      Consumer            31\n"
     ]
    }
   ],
   "source": [
    "# Checking for repeat customers\n",
    "customer_order_freq = df.groupby(['Customer ID','Customer Name','Segment'])['Order ID'].count().reset_index()\n",
    "\n",
    "# Renaming the columns\n",
    "customer_order_freq.rename(columns={'Segment':'Customer Type','Order ID':'Total Orders'},inplace=True)\n",
    "\n",
    "# Identify Repeat Customers\n",
    "repeat_customers = customer_order_freq[customer_order_freq['Total Orders']>=1]\n",
    "\n",
    "# Sort repeat customers descendinf\n",
    "sorted_repeat_customers = repeat_customers.sort_values(by='Total Orders',ascending=False)\n",
    "\n",
    "# Top 10 Customers Based on orders\n",
    "print(sorted_repeat_customers.head(10).reset_index(drop=True))"
   ]
  },
  {
   "cell_type": "markdown",
   "id": "656d720b-8b77-4ab6-8b63-2c43027d47f2",
   "metadata": {},
   "source": [
    "### 2. Bases on total sales"
   ]
  },
  {
   "cell_type": "code",
   "execution_count": 18,
   "id": "71455924-7ab5-427f-a683-31f2cb7947a2",
   "metadata": {},
   "outputs": [
    {
     "name": "stdout",
     "output_type": "stream",
     "text": [
      "  Customer ID       Customer Name      Segment  Total Sales\n",
      "0    SM-20320         Sean Miller  Home Office    25043.050\n",
      "1    TC-20980        Tamara Chand    Corporate    19052.218\n",
      "2    RB-19360        Raymond Buch     Consumer    15117.339\n",
      "3    TA-21385        Tom Ashbrook  Home Office    14595.620\n",
      "4    AB-10105       Adrian Barton     Consumer    14473.571\n",
      "5    KL-16645        Ken Lonsdale     Consumer    14175.229\n",
      "6    SC-20095        Sanjit Chand     Consumer    14142.334\n",
      "7    HL-15040        Hunter Lopez     Consumer    12873.298\n",
      "8    SE-20110        Sanjit Engle     Consumer    12209.438\n",
      "9    CC-12370  Christopher Conant     Consumer    12129.072\n"
     ]
    }
   ],
   "source": [
    "# Checking for total sales per customer\n",
    "customer_sales = df.groupby(['Customer ID','Customer Name','Segment'])['Sales'].sum().reset_index()\n",
    "\n",
    "#Renaming the column\n",
    "customer_sales.rename(columns={'Sales':'Total Sales'},inplace=True)\n",
    "\n",
    "# Sort in descending order\n",
    "top_customers_by_sales =  customer_sales.sort_values(by='Total Sales',ascending = False)\n",
    "\n",
    "print(top_customers_by_sales.head(10).reset_index(drop=True))"
   ]
  },
  {
   "cell_type": "markdown",
   "id": "128e22f5-89a0-4ec8-b11f-b2dba2e1c792",
   "metadata": {},
   "source": [
    "### Modes of Shipping"
   ]
  },
  {
   "cell_type": "code",
   "execution_count": 19,
   "id": "655b9dd6-3932-42f3-bf46-b74f26caacf6",
   "metadata": {},
   "outputs": [
    {
     "name": "stdout",
     "output_type": "stream",
     "text": [
      "<class 'pandas.core.frame.DataFrame'>\n",
      "RangeIndex: 9800 entries, 0 to 9799\n",
      "Data columns (total 18 columns):\n",
      " #   Column         Non-Null Count  Dtype  \n",
      "---  ------         --------------  -----  \n",
      " 0   Row ID         9800 non-null   int64  \n",
      " 1   Order ID       9800 non-null   object \n",
      " 2   Order Date     9800 non-null   object \n",
      " 3   Ship Date      9800 non-null   object \n",
      " 4   Ship Mode      9800 non-null   object \n",
      " 5   Customer ID    9800 non-null   object \n",
      " 6   Customer Name  9800 non-null   object \n",
      " 7   Segment        9800 non-null   object \n",
      " 8   Country        9800 non-null   object \n",
      " 9   City           9800 non-null   object \n",
      " 10  State          9800 non-null   object \n",
      " 11  Postal Code    9800 non-null   int32  \n",
      " 12  Region         9800 non-null   object \n",
      " 13  Product ID     9800 non-null   object \n",
      " 14  Category       9800 non-null   object \n",
      " 15  Sub-Category   9800 non-null   object \n",
      " 16  Product Name   9800 non-null   object \n",
      " 17  Sales          9800 non-null   float64\n",
      "dtypes: float64(1), int32(1), int64(1), object(15)\n",
      "memory usage: 1.3+ MB\n"
     ]
    }
   ],
   "source": [
    "# Getting unique values of shipping mode\n",
    "df.info()\n"
   ]
  },
  {
   "cell_type": "code",
   "execution_count": 20,
   "id": "9c19a362-e049-4fef-9954-e05d6391e2f4",
   "metadata": {},
   "outputs": [
    {
     "name": "stdout",
     "output_type": "stream",
     "text": [
      "The shipping modes are :  ['Second Class' 'Standard Class' 'First Class' 'Same Day']\n"
     ]
    }
   ],
   "source": [
    "shipping_mode = df['Ship Mode'].unique()\n",
    "print(\"The shipping modes are : \",shipping_mode)"
   ]
  },
  {
   "cell_type": "code",
   "execution_count": 21,
   "id": "7098189b-d858-496e-a4d8-8985b04cceb7",
   "metadata": {},
   "outputs": [
    {
     "name": "stdout",
     "output_type": "stream",
     "text": [
      "        Ship Mode  Mode Frequency\n",
      "0  Standard Class            5859\n",
      "1    Second Class            1902\n",
      "2     First Class            1501\n",
      "3        Same Day             538\n"
     ]
    }
   ],
   "source": [
    "# count frequency of each shipping mode\n",
    "shipping_mode_freq = df['Ship Mode'].value_counts().reset_index()\n",
    "\n",
    "# Rename the columns\n",
    "shipping_mode_freq = shipping_mode_freq.rename(columns={'count':'Mode Frequency'})\n",
    "print(shipping_mode_freq)"
   ]
  },
  {
   "cell_type": "code",
   "execution_count": 22,
   "id": "82279d1f-10e6-415e-b59f-60ca8c72c577",
   "metadata": {},
   "outputs": [
    {
     "data": {
      "image/png": "[encoded data removed]",
      "text/plain": [
       "<Figure size 640x480 with 1 Axes>"
      ]
     },
     "metadata": {},
     "output_type": "display_data"
    }
   ],
   "source": [
    "# Plotting pie chart\n",
    "plt.pie(shipping_mode_freq['Mode Frequency'], labels = shipping_mode_freq['Ship Mode'], autopct = '%1.1f%%')\n",
    "\n",
    "# Setting the titles\n",
    "plt.title(\"Shipping Mode Distribution\")\n",
    "\n",
    "plt.show()"
   ]
  },
  {
   "cell_type": "markdown",
   "id": "1ee5b81e-feb3-4e02-9cde-5b12479cd270",
   "metadata": {},
   "source": [
    "## Geographical Analysis"
   ]
  },
  {
   "cell_type": "markdown",
   "id": "ba2bf30d-f376-455f-805f-5db77c457dde",
   "metadata": {},
   "source": [
    "### State"
   ]
  },
  {
   "cell_type": "code",
   "execution_count": 23,
   "id": "48578486-431b-45d4-81a1-5aec68e38359",
   "metadata": {},
   "outputs": [
    {
     "name": "stdout",
     "output_type": "stream",
     "text": [
      "Their are  49 States\n"
     ]
    }
   ],
   "source": [
    "# Count number of states\n",
    "count_state = df['State'].nunique()\n",
    "print(\"Their are \",count_state,\"States\")"
   ]
  },
  {
   "cell_type": "markdown",
   "id": "52e20d04-5c72-4ab9-98b0-3d62a28e83b7",
   "metadata": {},
   "source": [
    "**Customers**"
   ]
  },
  {
   "cell_type": "code",
   "execution_count": 24,
   "id": "1e7a62e1-c05a-4857-8004-4bf7f9d544ea",
   "metadata": {},
   "outputs": [
    {
     "name": "stdout",
     "output_type": "stream",
     "text": [
      "                   State  Total Customers\n",
      "0             California             1946\n",
      "1               New York             1097\n",
      "2                  Texas              973\n",
      "3           Pennsylvania              582\n",
      "4             Washington              504\n",
      "5               Illinois              483\n",
      "6                   Ohio              454\n",
      "7                Florida              373\n",
      "8               Michigan              253\n",
      "9         North Carolina              247\n",
      "10              Virginia              224\n",
      "11               Arizona              223\n",
      "12             Tennessee              183\n",
      "13              Colorado              179\n",
      "14               Georgia              177\n",
      "15              Kentucky              137\n",
      "16               Indiana              135\n",
      "17         Massachusetts              135\n",
      "18                Oregon              122\n",
      "19            New Jersey              122\n",
      "20              Maryland              105\n",
      "21             Wisconsin              105\n",
      "22              Delaware               93\n",
      "23             Minnesota               89\n",
      "24           Connecticut               82\n",
      "25              Missouri               66\n",
      "26              Oklahoma               66\n",
      "27               Alabama               61\n",
      "28              Arkansas               60\n",
      "29          Rhode Island               55\n",
      "30           Mississippi               53\n",
      "31                  Utah               53\n",
      "32        South Carolina               42\n",
      "33             Louisiana               41\n",
      "34                Nevada               39\n",
      "35              Nebraska               38\n",
      "36            New Mexico               37\n",
      "37         New Hampshire               27\n",
      "38                  Iowa               26\n",
      "39                Kansas               24\n",
      "40                 Idaho               21\n",
      "41               Montana               15\n",
      "42          South Dakota               12\n",
      "43               Vermont               11\n",
      "44  District of Columbia               10\n",
      "45                 Maine                8\n",
      "46          North Dakota                7\n",
      "47         West Virginia                4\n",
      "48               Wyoming                1\n"
     ]
    }
   ],
   "source": [
    "# Customers per state\n",
    "cust_per_state = df['State'].value_counts().reset_index()\n",
    "\n",
    "# Rename the columns\n",
    "cust_per_state = cust_per_state.rename(columns={'count': 'Total Customers'})\n",
    "\n",
    "print(cust_per_state)"
   ]
  },
  {
   "cell_type": "code",
   "execution_count": 25,
   "id": "bd9e1e70-a598-4b6c-adbd-44702e2a1b20",
   "metadata": {},
   "outputs": [
    {
     "name": "stdout",
     "output_type": "stream",
     "text": [
      "            State  Total Customers\n",
      "0      California             1946\n",
      "1        New York             1097\n",
      "2           Texas              973\n",
      "3    Pennsylvania              582\n",
      "4      Washington              504\n",
      "5        Illinois              483\n",
      "6            Ohio              454\n",
      "7         Florida              373\n",
      "8        Michigan              253\n",
      "9  North Carolina              247\n"
     ]
    }
   ],
   "source": [
    "# Top 10 States with highest customers\n",
    "print(cust_per_state.head(10))"
   ]
  },
  {
   "cell_type": "markdown",
   "id": "013fb3e9-2fd3-4d75-80bd-a05dd663bee2",
   "metadata": {},
   "source": [
    "**Sales**"
   ]
  },
  {
   "cell_type": "code",
   "execution_count": 26,
   "id": "41fb728c-67c9-4708-aed8-f12b45402147",
   "metadata": {},
   "outputs": [
    {
     "name": "stdout",
     "output_type": "stream",
     "text": [
      "                   State  Total Sales\n",
      "0                Alabama   19510.6400\n",
      "1                Arizona   35272.6570\n",
      "2               Arkansas   11678.1300\n",
      "3             California  446306.4635\n",
      "4               Colorado   31841.5980\n",
      "5            Connecticut   13384.3570\n",
      "6               Delaware   27322.9990\n",
      "7   District of Columbia    2865.0200\n",
      "8                Florida   88436.5320\n",
      "9                Georgia   48219.1100\n",
      "10                 Idaho    4382.4860\n",
      "11              Illinois   79236.5170\n",
      "12               Indiana   48718.4000\n",
      "13                  Iowa    4443.5600\n",
      "14                Kansas    2914.3100\n",
      "15              Kentucky   36458.3900\n",
      "16             Louisiana    9131.0500\n",
      "17                 Maine    1270.5300\n",
      "18              Maryland   23705.5230\n",
      "19         Massachusetts   28634.4340\n",
      "20              Michigan   76136.0740\n",
      "21             Minnesota   29863.1500\n",
      "22           Mississippi   10771.3400\n",
      "23              Missouri   22205.1500\n",
      "24               Montana    5589.3520\n",
      "25              Nebraska    7464.9300\n",
      "26                Nevada   16729.1020\n",
      "27         New Hampshire    7292.5240\n",
      "28            New Jersey   34610.9720\n",
      "29            New Mexico    4783.5220\n",
      "30              New York  306361.1470\n",
      "31        North Carolina   55165.9640\n",
      "32          North Dakota     919.9100\n",
      "33                  Ohio   75130.3500\n",
      "34              Oklahoma   19683.3900\n",
      "35                Oregon   17284.4620\n",
      "36          Pennsylvania  116276.6500\n",
      "37          Rhode Island   22525.0260\n",
      "38        South Carolina    8481.7100\n",
      "39          South Dakota    1315.5600\n",
      "40             Tennessee   30661.8730\n",
      "41                 Texas  168572.5322\n",
      "42                  Utah   11220.0560\n",
      "43               Vermont    8929.3700\n",
      "44              Virginia   70636.7200\n",
      "45            Washington  135206.8500\n",
      "46         West Virginia    1209.8240\n",
      "47             Wisconsin   31173.4300\n",
      "48               Wyoming    1603.1360\n"
     ]
    }
   ],
   "source": [
    "# Counting total sales per state\n",
    "sales_per_state = df.groupby('State')['Sales'].sum().reset_index()\n",
    "\n",
    "# Renaming the column\n",
    "sales_per_state = sales_per_state.rename(columns={'Sales':'Total Sales'})\n",
    "\n",
    "print(sales_per_state)"
   ]
  },
  {
   "cell_type": "code",
   "execution_count": 27,
   "id": "c0e11b18-10fe-445d-ab69-37151c066428",
   "metadata": {},
   "outputs": [
    {
     "name": "stdout",
     "output_type": "stream",
     "text": [
      "          State  Total Sales\n",
      "0    California  446306.4635\n",
      "1      New York  306361.1470\n",
      "2         Texas  168572.5322\n",
      "3    Washington  135206.8500\n",
      "4  Pennsylvania  116276.6500\n",
      "5       Florida   88436.5320\n",
      "6      Illinois   79236.5170\n",
      "7      Michigan   76136.0740\n",
      "8          Ohio   75130.3500\n",
      "9      Virginia   70636.7200\n"
     ]
    }
   ],
   "source": [
    "# Top 10 States by total sales\n",
    "top_sales_state = sales_per_state.sort_values(by='Total Sales',ascending=False)\n",
    "print(top_sales_state.head(10).reset_index(drop=True))"
   ]
  },
  {
   "cell_type": "code",
   "execution_count": 28,
   "id": "6666df31-509a-4428-91dc-b6abbb490e9e",
   "metadata": {},
   "outputs": [
    {
     "data": {
      "image/png": "[encoded data removed]",
      "text/plain": [
       "<Figure size 640x480 with 1 Axes>"
      ]
     },
     "metadata": {},
     "output_type": "display_data"
    }
   ],
   "source": [
    "# Plotting bar graph\n",
    "top_10_states = top_sales_state.head(10).reset_index(drop=True)\n",
    "plt.barh(top_10_states['State'], top_10_states['Total Sales'])\n",
    "\n",
    "# Labels and title\n",
    "plt.ylabel('State')\n",
    "plt.xlabel('Total Sales')\n",
    "plt.title('Top 10 States by Total Sales')\n",
    "plt.gca().invert_yaxis()\n",
    "\n",
    "plt.show()"
   ]
  },
  {
   "cell_type": "markdown",
   "id": "262ec8e5-0452-4298-be6b-a5d70bfca31e",
   "metadata": {},
   "source": [
    "### Customer"
   ]
  },
  {
   "cell_type": "code",
   "execution_count": 29,
   "id": "160f8891-58c6-4e2d-8c32-f5e0bd67d404",
   "metadata": {},
   "outputs": [
    {
     "name": "stdout",
     "output_type": "stream",
     "text": [
      "Their are  529 Cities\n"
     ]
    }
   ],
   "source": [
    "# Count number of cities\n",
    "count_state = df['City'].nunique()\n",
    "print(\"Their are \",count_state,\"Cities\")"
   ]
  },
  {
   "cell_type": "markdown",
   "id": "32b0734f-ec48-47df-b448-4a72cb4a6df8",
   "metadata": {},
   "source": [
    "**Note:** Not printing all the cities as their are a lot of cities"
   ]
  },
  {
   "cell_type": "markdown",
   "id": "fb5e09d4-1e1d-4b49-9dc1-40137f2db96f",
   "metadata": {},
   "source": [
    "**Customer**"
   ]
  },
  {
   "cell_type": "code",
   "execution_count": 30,
   "id": "6d42bcaa-4a9c-412d-beb0-18678cf06aa2",
   "metadata": {},
   "outputs": [
    {
     "name": "stdout",
     "output_type": "stream",
     "text": [
      "            City  Total Customers\n",
      "0  New York City              891\n",
      "1    Los Angeles              728\n",
      "2   Philadelphia              532\n",
      "3  San Francisco              500\n",
      "4        Seattle              426\n",
      "5        Houston              374\n",
      "6        Chicago              308\n",
      "7       Columbus              221\n",
      "8      San Diego              170\n",
      "9    Springfield              161\n"
     ]
    }
   ],
   "source": [
    "# Customers per state\n",
    "cust_per_city = df['City'].value_counts().reset_index()\n",
    "\n",
    "# Rename the columns\n",
    "cust_per_city = cust_per_city.rename(columns={'count': 'Total Customers'})\n",
    "\n",
    "# Sort for top cities \n",
    "top_cust_city = cust_per_city.sort_values(by='Total Customers',ascending=False)\n",
    "\n",
    "# top 10 cities with highest customers\n",
    "top_10_cities_per_cust = top_cust_city.head(10)\n",
    "\n",
    "print(top_10_cities_per_cust)"
   ]
  },
  {
   "cell_type": "markdown",
   "id": "a978bd73-bf52-4d6f-afb1-823e295bd82f",
   "metadata": {},
   "source": [
    "**Sales**"
   ]
  },
  {
   "cell_type": "code",
   "execution_count": 31,
   "id": "fff2bc06-ae1b-44d1-89d8-b6854519a9a8",
   "metadata": {},
   "outputs": [
    {
     "name": "stdout",
     "output_type": "stream",
     "text": [
      "            City  Total Sales\n",
      "0  New York City  252462.5470\n",
      "1    Los Angeles  173420.1810\n",
      "2        Seattle  116106.3220\n",
      "3  San Francisco  109041.1200\n",
      "4   Philadelphia  108841.7490\n",
      "5        Houston   63956.1428\n",
      "6        Chicago   47820.1330\n",
      "7      San Diego   47521.0290\n",
      "8   Jacksonville   44713.1830\n",
      "9        Detroit   42446.9440\n"
     ]
    }
   ],
   "source": [
    "# Counting total sales per city\n",
    "sales_per_city = df.groupby('City')['Sales'].sum().reset_index()\n",
    "\n",
    "# Renaming the column\n",
    "sales_per_city = sales_per_city.rename(columns={'Sales':'Total Sales'})\n",
    "\n",
    "# Sorting cities with highest sales\n",
    "top_sales_city = sales_per_city.sort_values(by='Total Sales',ascending=False)\n",
    "\n",
    "# top 10 cities with highest sales\n",
    "top_10_cities_per_sales = top_sales_city.head(10).reset_index(drop=True)\n",
    "\n",
    "print(top_10_cities_per_sales)"
   ]
  },
  {
   "cell_type": "code",
   "execution_count": 32,
   "id": "3e5c3d3f-ba57-44f2-b9e1-a2c2b94b62a9",
   "metadata": {},
   "outputs": [
    {
     "data": {
      "image/png": "[encoded data removed]",
      "text/plain": [
       "<Figure size 640x480 with 1 Axes>"
      ]
     },
     "metadata": {},
     "output_type": "display_data"
    }
   ],
   "source": [
    "# Plotting bar graph \n",
    "plt.barh(top_10_cities_per_sales['City'], top_10_cities_per_sales['Total Sales'])\n",
    "\n",
    "# Labels and title\n",
    "plt.xlabel('Total Sales')\n",
    "plt.ylabel('City')\n",
    "plt.title('Top 10 Cities By Total Sales')\n",
    "plt.gca().invert_yaxis()\n",
    "\n",
    "plt.show()"
   ]
  },
  {
   "cell_type": "markdown",
   "id": "1e46fe67-68ad-4fdb-8a7c-6b1a75443e09",
   "metadata": {},
   "source": [
    "## Product Analysis"
   ]
  },
  {
   "cell_type": "markdown",
   "id": "86a71d31-54a8-456b-9c06-0a54a3264b08",
   "metadata": {},
   "source": [
    "#### Category"
   ]
  },
  {
   "cell_type": "code",
   "execution_count": 33,
   "id": "cb63d1a2-dd5f-4b84-9115-debc5f0fcd7a",
   "metadata": {},
   "outputs": [
    {
     "name": "stdout",
     "output_type": "stream",
     "text": [
      "Product categories are :  ['Furniture' 'Office Supplies' 'Technology']\n"
     ]
    }
   ],
   "source": [
    "# unique value for product category\n",
    "product_category = df['Category'].unique()\n",
    "print(\"Product categories are : \",product_category)"
   ]
  },
  {
   "cell_type": "code",
   "execution_count": 34,
   "id": "770fcd59-8964-483f-8586-8f5ce08c0276",
   "metadata": {},
   "outputs": [
    {
     "name": "stdout",
     "output_type": "stream",
     "text": [
      "          Category  Total Products\n",
      "0  Office Supplies            5909\n",
      "1        Furniture            2078\n",
      "2       Technology            1813\n"
     ]
    }
   ],
   "source": [
    "# count total product for each category\n",
    "total_products_by_category = df['Category'].value_counts().reset_index()\n",
    "\n",
    "# Renaming the columns\n",
    "total_products_by_category = total_products_by_category.rename(columns={'count':'Total Products'})\n",
    "\n",
    "print(total_products_by_category)"
   ]
  },
  {
   "cell_type": "code",
   "execution_count": 35,
   "id": "9b465be6-a780-4c96-bd25-45f0613680d3",
   "metadata": {},
   "outputs": [
    {
     "data": {
      "image/png": "[encoded data removed]",
      "text/plain": [
       "<Figure size 640x480 with 1 Axes>"
      ]
     },
     "metadata": {},
     "output_type": "display_data"
    }
   ],
   "source": [
    "# plotting pie chart\n",
    "plt.pie(total_products_by_category['Total Products'], labels=total_products_by_category['Category'], autopct = '%1.1f%%')\n",
    "\n",
    "# title\n",
    "plt.title(\"Total Products Per Category\")\n",
    "\n",
    "plt.show()"
   ]
  },
  {
   "cell_type": "code",
   "execution_count": 36,
   "id": "5f2e7ea7-1333-40c2-87de-8233a14c3b73",
   "metadata": {},
   "outputs": [
    {
     "name": "stdout",
     "output_type": "stream",
     "text": [
      "  Product Category  Total Sales\n",
      "0        Furniture  728658.5757\n",
      "1  Office Supplies  705422.3340\n",
      "2       Technology  827455.8730\n"
     ]
    }
   ],
   "source": [
    "# Sales per product category\n",
    "sales_per_product_category = df.groupby(['Category'])['Sales'].sum().reset_index()\n",
    "\n",
    "# Renaming the columns\n",
    "sales_per_product_category = sales_per_product_category.rename(columns={'Category':'Product Category','Sales':'Total Sales'})\n",
    "\n",
    "print(sales_per_product_category)"
   ]
  },
  {
   "cell_type": "code",
   "execution_count": 37,
   "id": "9edf3722-4c4d-41e3-b78f-01e8f1a98e27",
   "metadata": {},
   "outputs": [
    {
     "data": {
      "image/png": "[encoded data removed]",
      "text/plain": [
       "<Figure size 640x480 with 1 Axes>"
      ]
     },
     "metadata": {},
     "output_type": "display_data"
    }
   ],
   "source": [
    "# plotting bar graph\n",
    "plt.bar(sales_per_product_category['Product Category'],sales_per_product_category['Total Sales'])\n",
    "\n",
    "# Labels and title\n",
    "plt.xlabel(\"Product Category\")\n",
    "plt.ylabel(\"Sales\")\n",
    "plt.title(\"Total Sales Per Product Category\")\n",
    "plt.gca().invert_xaxis()\n",
    "\n",
    "plt.show()"
   ]
  },
  {
   "cell_type": "markdown",
   "id": "220f075a-cc80-4ddd-a68f-0957545961fa",
   "metadata": {},
   "source": [
    "#### Sub Category"
   ]
  },
  {
   "cell_type": "code",
   "execution_count": 38,
   "id": "84e84f45-8413-486f-802f-a484beabb906",
   "metadata": {},
   "outputs": [
    {
     "name": "stdout",
     "output_type": "stream",
     "text": [
      "Their are  17 Product Sub Catogires\n"
     ]
    }
   ],
   "source": [
    "# Unique Values of product sub-category\n",
    "product_sub_category = df['Sub-Category'].nunique()\n",
    "print(\"Their are \",product_sub_category,\"Product Sub Catogires\")"
   ]
  },
  {
   "cell_type": "code",
   "execution_count": 39,
   "id": "c9576dc0-fdf3-44da-bce8-4eeb8e9dc5c8",
   "metadata": {},
   "outputs": [
    {
     "name": "stdout",
     "output_type": "stream",
     "text": [
      "   Sub-Category  count\n",
      "0       Binders   1492\n",
      "1         Paper   1338\n",
      "2   Furnishings    931\n",
      "3        Phones    876\n",
      "4       Storage    832\n",
      "5           Art    785\n",
      "6   Accessories    756\n",
      "7        Chairs    607\n",
      "8    Appliances    459\n",
      "9        Labels    357\n",
      "10       Tables    314\n",
      "11    Envelopes    248\n",
      "12    Bookcases    226\n",
      "13    Fasteners    214\n",
      "14     Supplies    184\n",
      "15     Machines    115\n",
      "16      Copiers     66\n"
     ]
    }
   ],
   "source": [
    "# count total product for each sub-category\n",
    "total_products_by_sub_category = df['Sub-Category'].value_counts().reset_index()\n",
    "\n",
    "# Renaming the columns\n",
    "total_products_by_subcategory = total_products_by_sub_category.rename(columns={'count':'Total Products'})\n",
    "\n",
    "print(total_products_by_sub_category)"
   ]
  },
  {
   "cell_type": "code",
   "execution_count": 40,
   "id": "29a1f944-6d4a-448f-b424-9dba38fc79ec",
   "metadata": {},
   "outputs": [
    {
     "name": "stdout",
     "output_type": "stream",
     "text": [
      "   Product Sub-Category  Total Sales\n",
      "0           Accessories  164186.7000\n",
      "1            Appliances  104618.4030\n",
      "2                   Art   26705.4100\n",
      "3               Binders  200028.7850\n",
      "4             Bookcases  113813.1987\n",
      "5                Chairs  322822.7310\n",
      "6               Copiers  146248.0940\n",
      "7             Envelopes   16128.0460\n",
      "8             Fasteners    3001.9600\n",
      "9           Furnishings   89212.0180\n",
      "10               Labels   12347.7260\n",
      "11             Machines  189238.6310\n",
      "12                Paper   76828.3040\n",
      "13               Phones  327782.4480\n",
      "14              Storage  219343.3920\n",
      "15             Supplies   46420.3080\n",
      "16               Tables  202810.6280\n"
     ]
    }
   ],
   "source": [
    "# Sales per product sub-category\n",
    "sales_per_product_sub_category = df.groupby(['Sub-Category'])['Sales'].sum().reset_index()\n",
    "\n",
    "# Renaming the columns\n",
    "sales_per_product_sub_category = sales_per_product_sub_category.rename(columns={'Sub-Category':'Product Sub-Category','Sales':'Total Sales'})\n",
    "\n",
    "print(sales_per_product_sub_category)"
   ]
  },
  {
   "cell_type": "code",
   "execution_count": 41,
   "id": "e0639afb-8f57-40ac-989b-385c2c75cba4",
   "metadata": {},
   "outputs": [
    {
     "name": "stdout",
     "output_type": "stream",
     "text": [
      "  Product Sub-Category  Total Sales\n",
      "0               Phones  327782.4480\n",
      "1               Chairs  322822.7310\n",
      "2              Storage  219343.3920\n",
      "3               Tables  202810.6280\n",
      "4              Binders  200028.7850\n",
      "5             Machines  189238.6310\n",
      "6          Accessories  164186.7000\n",
      "7              Copiers  146248.0940\n",
      "8            Bookcases  113813.1987\n",
      "9           Appliances  104618.4030\n"
     ]
    }
   ],
   "source": [
    "# top 10 product sub categories per sales\n",
    "top_sub_category_sales = sales_per_product_sub_category.sort_values(by='Total Sales',ascending=False)\n",
    "\n",
    "top_10_sub_category_sales = top_sub_category_sales.head(10).reset_index(drop=True)\n",
    "print(top_10_sub_category_sales)"
   ]
  },
  {
   "cell_type": "code",
   "execution_count": 42,
   "id": "746b36da-86af-4119-add0-7fa050b0e612",
   "metadata": {},
   "outputs": [
    {
     "data": {
      "image/png": "[encoded data removed]",
      "text/plain": [
       "<Figure size 640x480 with 1 Axes>"
      ]
     },
     "metadata": {},
     "output_type": "display_data"
    }
   ],
   "source": [
    "# Plotting bar graph \n",
    "plt.barh(top_10_sub_category_sales['Product Sub-Category'], top_10_sub_category_sales['Total Sales'])\n",
    "\n",
    "# Labels and title\n",
    "plt.xlabel('Total Sales')\n",
    "plt.ylabel('Sub-Category')\n",
    "plt.title('Top 10 Sub-Categroies By Total Sales')\n",
    "plt.gca().invert_yaxis()\n",
    "\n",
    "plt.show()"
   ]
  },
  {
   "cell_type": "markdown",
   "id": "4f3c80eb-ff10-4b14-b725-86965cfcd84a",
   "metadata": {},
   "source": [
    "## Sales Trends"
   ]
  },
  {
   "cell_type": "markdown",
   "id": "c0015366-5e34-41a3-8609-aac708ed79ed",
   "metadata": {},
   "source": [
    "**Yearly**"
   ]
  },
  {
   "cell_type": "code",
   "execution_count": 43,
   "id": "f8b01651-20d3-422c-b90e-93ae34657f94",
   "metadata": {},
   "outputs": [
    {
     "name": "stdout",
     "output_type": "stream",
     "text": [
      "   Order Date  Total Sales\n",
      "0        2015  479856.2081\n",
      "1        2016  459436.0054\n",
      "2        2017  600192.5500\n",
      "3        2018  722052.0192\n"
     ]
    }
   ],
   "source": [
    "# converting date to datetime format\n",
    "df['Order Date'] = pd.to_datetime(df['Order Date'],dayfirst=True)\n",
    "\n",
    "# Grouping by year \n",
    "yearly_sales = df.groupby(df['Order Date'].dt.year)['Sales'].sum().reset_index()\n",
    "\n",
    "# Renaming the columns\n",
    "yearly_sales = yearly_sales.rename(columns={'Sales':'Total Sales'})\n",
    "\n",
    "print(yearly_sales)"
   ]
  },
  {
   "cell_type": "code",
   "execution_count": 44,
   "id": "dfd99b0f-601a-42b9-8e37-9b40c03f5234",
   "metadata": {},
   "outputs": [
    {
     "data": {
      "image/png": "[encoded data removed]",
      "text/plain": [
       "<Figure size 640x480 with 1 Axes>"
      ]
     },
     "metadata": {},
     "output_type": "display_data"
    }
   ],
   "source": [
    "# Plotting line graph\n",
    "plt.plot(yearly_sales['Order Date'], yearly_sales['Total Sales'], marker='o',linestyle='--')\n",
    "\n",
    "# Labels and title\n",
    "plt.xlabel('Year')\n",
    "plt.ylabel('Sales')\n",
    "plt.title('Yearly Sales Trend')\n",
    "plt.xticks(yearly_sales['Order Date'])\n",
    "\n",
    "plt.show()"
   ]
  },
  {
   "cell_type": "markdown",
   "id": "cb41134b-ab9d-459b-aa57-3fbef519857d",
   "metadata": {},
   "source": [
    "**Monthly**"
   ]
  },
  {
   "cell_type": "code",
   "execution_count": 45,
   "id": "d98472a1-b52b-4b5d-891a-11e4893c026c",
   "metadata": {},
   "outputs": [
    {
     "name": "stdout",
     "output_type": "stream",
     "text": [
      "        Month  Total Sales\n",
      "0     January   94291.6296\n",
      "1    February   59371.1154\n",
      "2       March  197573.5872\n",
      "3       April  136283.0006\n",
      "4         May  154086.7237\n",
      "5        June  145837.5233\n",
      "6        July  145535.6890\n",
      "7      August  157315.9270\n",
      "8   September  300103.4117\n",
      "9     October  199496.2947\n",
      "10   November  350161.7110\n",
      "11   December  321480.1695\n"
     ]
    }
   ],
   "source": [
    "# Extract the month name from the date\n",
    "df['Month'] = df['Order Date'].dt.month_name()\n",
    "\n",
    "# Group by month name and sum the sales\n",
    "monthly_sales = df.groupby('Month')['Sales'].sum().reset_index()\n",
    "\n",
    "# Renaming the columns\n",
    "monthly_sales = monthly_sales.rename(columns={'Sales':'Total Sales'})\n",
    "\n",
    "# Optional: To keep calendar order (Jan to Dec)\n",
    "month_order = ['January', 'February', 'March', 'April', 'May', 'June',\n",
    "               'July', 'August', 'September', 'October', 'November', 'December']\n",
    "monthly_sales['Month'] = pd.Categorical(monthly_sales['Month'], categories=month_order, ordered=True)\n",
    "monthly_sales = monthly_sales.sort_values('Month').reset_index(drop=True)\n",
    "\n",
    "print(monthly_sales)\n"
   ]
  },
  {
   "cell_type": "code",
   "execution_count": 46,
   "id": "89e64dd2-359f-4a18-b739-c04551c60d8f",
   "metadata": {},
   "outputs": [
    {
     "data": {
      "image/png": "[encoded data removed]",
      "text/plain": [
       "<Figure size 640x480 with 1 Axes>"
      ]
     },
     "metadata": {},
     "output_type": "display_data"
    }
   ],
   "source": [
    "# Plotting horizontal bar graph\n",
    "plt.barh(monthly_sales['Month'], monthly_sales['Total Sales'], color='mediumseagreen')\n",
    "\n",
    "# Labels and title\n",
    "plt.ylabel('Month')\n",
    "plt.xlabel('Sales')\n",
    "plt.title('Total Sales per Month (All Years Combined)')\n",
    "plt.gca().invert_yaxis()\n",
    "plt.show()"
   ]
  },
  {
   "cell_type": "code",
   "execution_count": null,
   "id": "201b0700-aadf-4dff-af06-9b3c24f831d6",
   "metadata": {},
   "outputs": [],
   "source": []
  }
 ],
 "metadata": {
  "kernelspec": {
   "display_name": "Python 3 (ipykernel)",
   "language": "python",
   "name": "python3"
  },
  "language_info": {
   "codemirror_mode": {
    "name": "ipython",
    "version": 3
   },
   "file_extension": ".py",
   "mimetype": "text/x-python",
   "name": "python",
   "nbconvert_exporter": "python",
   "pygments_lexer": "ipython3",
   "version": "3.11.5"
  }
 },
 "nbformat": 4,
 "nbformat_minor": 5
}
